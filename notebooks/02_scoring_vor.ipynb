{
 "cells": [
  {
   "cell_type": "markdown",
   "id": "0",
   "metadata": {},
   "source": [
    "VOR"
   ]
  },
  {
   "cell_type": "code",
   "execution_count": null,
   "id": "1",
   "metadata": {
    "vscode": {
     "languageId": "plaintext"
    }
   },
   "outputs": [],
   "source": [
    "from rich import print\n",
    "from rich.table import Table\n",
    "board = vor_df.sort_values([\"position\", \"tier\", \"vor\"], ascending=[True, True, False])\n",
    "table = Table(title=\"Draft Board (VOR tiers)\")\n",
    "for col in [\"player_id\", \"position\", \"fantasy_pts_season\", \"vor\", \"tier\"]:\n",
    "    table.add_column(col)\n",
    "for _, row in board.iterrows():\n",
    "    table.add_row(*map(str, row[[\"player_id\", \"position\", \"fantasy_pts_season\", \"vor\", \"tier\"]]))\n",
    "print(table)"
   ]
  }
 ],
 "metadata": {
  "language_info": {
   "name": "python"
  }
 },
 "nbformat": 4,
 "nbformat_minor": 5
}
